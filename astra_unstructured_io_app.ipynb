{
 "cells": [
  {
   "cell_type": "code",
   "execution_count": 1,
   "id": "52efe4fa",
   "metadata": {},
   "outputs": [],
   "source": [
    "#CREATE RAG PIPELINE!!!!!"
   ]
  },
  {
   "cell_type": "code",
   "execution_count": 2,
   "id": "f3d93307",
   "metadata": {},
   "outputs": [
    {
     "data": {
      "text/plain": [
       "True"
      ]
     },
     "execution_count": 2,
     "metadata": {},
     "output_type": "execute_result"
    }
   ],
   "source": [
    "#Import dependencies and load environment variables.\n",
    "\n",
    "\n",
    "import os\n",
    "import requests\n",
    "\n",
    "from dotenv import load_dotenv\n",
    "from langchain_astradb import AstraDBVectorStore\n",
    "from langchain_core.documents import Document\n",
    "from langchain_core.output_parsers import StrOutputParser\n",
    "from langchain_core.prompts import PromptTemplate\n",
    "from langchain_core.runnables import RunnablePassthrough\n",
    "\n",
    "from langchain_community.document_loaders import (\n",
    "    unstructured,\n",
    "    UnstructuredAPIFileLoader,\n",
    ")\n",
    "\n",
    "from langchain_openai import (\n",
    "    ChatOpenAI,\n",
    "    OpenAIEmbeddings,\n",
    ")\n",
    "\n",
    "load_dotenv()\n",
    "\n"
   ]
  },
  {
   "cell_type": "code",
   "execution_count": 3,
   "id": "0d619829",
   "metadata": {},
   "outputs": [
    {
     "name": "stdout",
     "output_type": "stream",
     "text": [
      "Download complete.\n"
     ]
    }
   ],
   "source": [
    "#For this example we will focus on pages 9 & 10 of a PDF about attention mechanisms in transformer model architectures. \n",
    "\n",
    "url = \"https://raw.githubusercontent.com/datastax/ragstack-ai/48bc55e7dc4de6a8b79fcebcedd242dc1254dd63/examples/notebooks/resources/attention_pages_9_10.pdf\"\n",
    "file_path = \"./attention_pages_9_10.pdf\"\n",
    "\n",
    "response = requests.get(url)\n",
    "if response.status_code == 200:\n",
    "    with open(file_path, \"wb\") as file:\n",
    "        file.write(response.content)\n",
    "    print(\"Download complete.\")\n",
    "else:\n",
    "    print(\"Error downloading the file.\")"
   ]
  },
  {
   "cell_type": "code",
   "execution_count": 4,
   "id": "22dfdae4",
   "metadata": {},
   "outputs": [
    {
     "ename": "TypeError",
     "evalue": "argument of type 'NoneType' is not iterable",
     "output_type": "error",
     "traceback": [
      "\u001b[0;31m---------------------------------------------------------------------------\u001b[0m",
      "\u001b[0;31mTypeError\u001b[0m                                 Traceback (most recent call last)",
      "Cell \u001b[0;32mIn[4], line 2\u001b[0m\n\u001b[1;32m      1\u001b[0m \u001b[38;5;66;03m#Parse the downloaded PDF with Unstructured into elements for indexing. (ADVANCED PARSING)\u001b[39;00m\n\u001b[0;32m----> 2\u001b[0m elements \u001b[38;5;241m=\u001b[39m \u001b[43munstructured\u001b[49m\u001b[38;5;241;43m.\u001b[39;49m\u001b[43mget_elements_from_api\u001b[49m\u001b[43m(\u001b[49m\n\u001b[1;32m      3\u001b[0m \u001b[43m    \u001b[49m\u001b[43mfile_path\u001b[49m\u001b[38;5;241;43m=\u001b[39;49m\u001b[38;5;124;43m\"\u001b[39;49m\u001b[38;5;124;43m./attention_pages_9_10.pdf\u001b[39;49m\u001b[38;5;124;43m\"\u001b[39;49m\u001b[43m,\u001b[49m\n\u001b[1;32m      4\u001b[0m \u001b[43m    \u001b[49m\u001b[43mapi_key\u001b[49m\u001b[38;5;241;43m=\u001b[39;49m\u001b[43mos\u001b[49m\u001b[38;5;241;43m.\u001b[39;49m\u001b[43mgetenv\u001b[49m\u001b[43m(\u001b[49m\u001b[38;5;124;43m\"\u001b[39;49m\u001b[38;5;124;43mUNSTRUCTURED_API_KEY\u001b[39;49m\u001b[38;5;124;43m\"\u001b[39;49m\u001b[43m)\u001b[49m\u001b[43m,\u001b[49m\n\u001b[1;32m      5\u001b[0m \u001b[43m    \u001b[49m\u001b[43mapi_url\u001b[49m\u001b[38;5;241;43m=\u001b[39;49m\u001b[43mos\u001b[49m\u001b[38;5;241;43m.\u001b[39;49m\u001b[43mgetenv\u001b[49m\u001b[43m(\u001b[49m\u001b[38;5;124;43m\"\u001b[39;49m\u001b[38;5;124;43mUNSTRUCTURED_API_URL\u001b[39;49m\u001b[38;5;124;43m\"\u001b[39;49m\u001b[43m)\u001b[49m\u001b[43m,\u001b[49m\n\u001b[1;32m      6\u001b[0m \u001b[43m    \u001b[49m\u001b[43mstrategy\u001b[49m\u001b[38;5;241;43m=\u001b[39;49m\u001b[38;5;124;43m\"\u001b[39;49m\u001b[38;5;124;43mhi_res\u001b[39;49m\u001b[38;5;124;43m\"\u001b[39;49m\u001b[43m,\u001b[49m\u001b[43m \u001b[49m\u001b[38;5;66;43;03m# default \"auto\"\u001b[39;49;00m\n\u001b[1;32m      7\u001b[0m \u001b[43m    \u001b[49m\u001b[43mpdf_infer_table_structure\u001b[49m\u001b[38;5;241;43m=\u001b[39;49m\u001b[38;5;28;43;01mTrue\u001b[39;49;00m\u001b[43m,\u001b[49m\n\u001b[1;32m      8\u001b[0m \u001b[43m)\u001b[49m\n\u001b[1;32m     10\u001b[0m \u001b[38;5;28mprint\u001b[39m(\u001b[38;5;28mlen\u001b[39m(elements))\n\u001b[1;32m     11\u001b[0m tables \u001b[38;5;241m=\u001b[39m [el \u001b[38;5;28;01mfor\u001b[39;00m el \u001b[38;5;129;01min\u001b[39;00m elements \u001b[38;5;28;01mif\u001b[39;00m el\u001b[38;5;241m.\u001b[39mcategory \u001b[38;5;241m==\u001b[39m \u001b[38;5;124m\"\u001b[39m\u001b[38;5;124mTable\u001b[39m\u001b[38;5;124m\"\u001b[39m]\n",
      "File \u001b[0;32m~/Projects/Python/venvs/unstructured/lib/python3.10/site-packages/langchain_community/document_loaders/unstructured.py:208\u001b[0m, in \u001b[0;36mget_elements_from_api\u001b[0;34m(file_path, file, api_url, api_key, **unstructured_kwargs)\u001b[0m\n\u001b[1;32m    205\u001b[0m \u001b[38;5;28;01melse\u001b[39;00m:\n\u001b[1;32m    206\u001b[0m     \u001b[38;5;28;01mfrom\u001b[39;00m \u001b[38;5;21;01munstructured\u001b[39;00m\u001b[38;5;21;01m.\u001b[39;00m\u001b[38;5;21;01mpartition\u001b[39;00m\u001b[38;5;21;01m.\u001b[39;00m\u001b[38;5;21;01mapi\u001b[39;00m \u001b[38;5;28;01mimport\u001b[39;00m partition_via_api\n\u001b[0;32m--> 208\u001b[0m     \u001b[38;5;28;01mreturn\u001b[39;00m \u001b[43mpartition_via_api\u001b[49m\u001b[43m(\u001b[49m\n\u001b[1;32m    209\u001b[0m \u001b[43m        \u001b[49m\u001b[43mfilename\u001b[49m\u001b[38;5;241;43m=\u001b[39;49m\u001b[43mfile_path\u001b[49m\u001b[43m,\u001b[49m\n\u001b[1;32m    210\u001b[0m \u001b[43m        \u001b[49m\u001b[43mfile\u001b[49m\u001b[38;5;241;43m=\u001b[39;49m\u001b[43mfile\u001b[49m\u001b[43m,\u001b[49m\n\u001b[1;32m    211\u001b[0m \u001b[43m        \u001b[49m\u001b[43mapi_key\u001b[49m\u001b[38;5;241;43m=\u001b[39;49m\u001b[43mapi_key\u001b[49m\u001b[43m,\u001b[49m\n\u001b[1;32m    212\u001b[0m \u001b[43m        \u001b[49m\u001b[43mapi_url\u001b[49m\u001b[38;5;241;43m=\u001b[39;49m\u001b[43mapi_url\u001b[49m\u001b[43m,\u001b[49m\n\u001b[1;32m    213\u001b[0m \u001b[43m        \u001b[49m\u001b[38;5;241;43m*\u001b[39;49m\u001b[38;5;241;43m*\u001b[39;49m\u001b[43munstructured_kwargs\u001b[49m\u001b[43m,\u001b[49m\n\u001b[1;32m    214\u001b[0m \u001b[43m    \u001b[49m\u001b[43m)\u001b[49m\n",
      "File \u001b[0;32m~/Projects/Python/venvs/unstructured/lib/python3.10/site-packages/unstructured/partition/api.py:71\u001b[0m, in \u001b[0;36mpartition_via_api\u001b[0;34m(filename, content_type, file, file_filename, api_url, api_key, metadata_filename, **request_kwargs)\u001b[0m\n\u001b[1;32m     64\u001b[0m     logger\u001b[38;5;241m.\u001b[39mwarn(\n\u001b[1;32m     65\u001b[0m         \u001b[38;5;124m\"\u001b[39m\u001b[38;5;124mThe file_filename kwarg will be deprecated in a future version of unstructured. \u001b[39m\u001b[38;5;124m\"\u001b[39m\n\u001b[1;32m     66\u001b[0m         \u001b[38;5;124m\"\u001b[39m\u001b[38;5;124mPlease use metadata_filename instead.\u001b[39m\u001b[38;5;124m\"\u001b[39m,\n\u001b[1;32m     67\u001b[0m     )\n\u001b[1;32m     69\u001b[0m \u001b[38;5;66;03m# Note(austin) - the sdk takes the base url, but we have the full api_url\u001b[39;00m\n\u001b[1;32m     70\u001b[0m \u001b[38;5;66;03m# For consistency, just strip off the path when it's given\u001b[39;00m\n\u001b[0;32m---> 71\u001b[0m base_url \u001b[38;5;241m=\u001b[39m api_url[:\u001b[38;5;241m-\u001b[39m\u001b[38;5;241m19\u001b[39m] \u001b[38;5;28;01mif\u001b[39;00m \u001b[38;5;124;43m\"\u001b[39;49m\u001b[38;5;124;43m/general/v0/general\u001b[39;49m\u001b[38;5;124;43m\"\u001b[39;49m\u001b[43m \u001b[49m\u001b[38;5;129;43;01min\u001b[39;49;00m\u001b[43m \u001b[49m\u001b[43mapi_url\u001b[49m \u001b[38;5;28;01melse\u001b[39;00m api_url\n\u001b[1;32m     72\u001b[0m sdk \u001b[38;5;241m=\u001b[39m UnstructuredClient(api_key_auth\u001b[38;5;241m=\u001b[39mapi_key, server_url\u001b[38;5;241m=\u001b[39mbase_url)\n\u001b[1;32m     74\u001b[0m \u001b[38;5;28;01mif\u001b[39;00m filename \u001b[38;5;129;01mis\u001b[39;00m \u001b[38;5;129;01mnot\u001b[39;00m \u001b[38;5;28;01mNone\u001b[39;00m:\n",
      "\u001b[0;31mTypeError\u001b[0m: argument of type 'NoneType' is not iterable"
     ]
    }
   ],
   "source": [
    "#Parse the downloaded PDF with Unstructured into elements for indexing. (ADVANCED PARSING)\n",
    "elements = unstructured.get_elements_from_api(\n",
    "    file_path=\"./attention_pages_9_10.pdf\",\n",
    "    api_key=os.getenv(\"UNSTRUCTURED_API_KEY\"),\n",
    "    api_url=os.getenv(\"UNSTRUCTURED_API_URL\"),\n",
    "    strategy=\"hi_res\", # default \"auto\"\n",
    "    pdf_infer_table_structure=True,\n",
    ")\n",
    "\n",
    "print(len(elements))\n",
    "tables = [el for el in elements if el.category == \"Table\"]\n",
    "print(tables[1].metadata.text_as_html)"
   ]
  },
  {
   "cell_type": "code",
   "execution_count": null,
   "id": "9e97869d",
   "metadata": {},
   "outputs": [],
   "source": [
    "#Create an Astra DB Serverless vector store instance.\n",
    "\n",
    "astra_db_store = AstraDBVectorStore(\n",
    "    collection_name=\"langchain_unstructured\",\n",
    "    embedding=OpenAIEmbeddings(),\n",
    "    token=os.getenv(\"ASTRA_DB_APPLICATION_TOKEN\"),\n",
    "    api_endpoint=os.getenv(\"ASTRA_DB_API_ENDPOINT\")\n",
    ")"
   ]
  },
  {
   "cell_type": "code",
   "execution_count": null,
   "id": "f485c5cd",
   "metadata": {},
   "outputs": [],
   "source": [
    "#Create LangChain documents by chunking the text after Table elements and before Title elements. Use the html output format for table data. Insert the documents into Astra DB Serverless.\n",
    "\n",
    "documents = []\n",
    "current_doc = None\n",
    "\n",
    "for el in elements:\n",
    "    if el.category in [\"Header\", \"Footer\"]:\n",
    "        continue # skip these\n",
    "    if el.category == \"Title\":\n",
    "        documents.append(current_doc)\n",
    "        current_doc = None\n",
    "    if not current_doc:\n",
    "        current_doc = Document(page_content=\"\", metadata=el.metadata.to_dict())\n",
    "    current_doc.page_content += el.metadata.text_as_html if el.category == \"Table\" else el.text\n",
    "    if el.category == \"Table\":\n",
    "        documents.append(current_doc)\n",
    "        current_doc = None\n",
    "\n",
    "astra_db_store.add_documents(documents)"
   ]
  },
  {
   "cell_type": "code",
   "execution_count": null,
   "id": "e0bdf633",
   "metadata": {},
   "outputs": [],
   "source": [
    "#Build a RAG pipeline using the populated Astra DB Serverless vector store.\n",
    "\n",
    "prompt = \"\"\"\n",
    "Answer the question based only on the supplied context. If you don't know the answer, say \"I don't know\".\n",
    "Context: {context}\n",
    "Question: {question}\n",
    "Your answer:\n",
    "\"\"\"\n",
    "\n",
    "llm = ChatOpenAI(model=\"gpt-3.5-turbo-16k\", streaming=False, temperature=0)\n",
    "\n",
    "chain = (\n",
    "    {\"context\": astra_db_store.as_retriever(), \"question\": RunnablePassthrough()}\n",
    "    | PromptTemplate.from_template(prompt)\n",
    "    | llm\n",
    "    | StrOutputParser()\n",
    ")"
   ]
  },
  {
   "cell_type": "code",
   "execution_count": null,
   "id": "e319653a",
   "metadata": {},
   "outputs": [],
   "source": [
    "#EXECUTE QUERIES!!!!!"
   ]
  },
  {
   "cell_type": "code",
   "execution_count": null,
   "id": "75c2032a",
   "metadata": {},
   "outputs": [],
   "source": [
    "#Ask a question that should be answered by the text of the document - this query should return a relevant response.\n",
    "\n",
    "response_1 = chain.invoke(\"What does reducing the attention key size do?\")\n",
    "print(\"\\n***********New Unstructured Basic Query Engine***********\")\n",
    "print(response_1)"
   ]
  },
  {
   "cell_type": "code",
   "execution_count": null,
   "id": "bc131000",
   "metadata": {},
   "outputs": [],
   "source": [
    "#Ask a question that can be answered from the table data. This highlights the power of using Unstructured.io.\n",
    "\n",
    "response_2 = chain.invoke(\"For the transformer to English constituency results, what was the 'WSJ 23 F1' value for 'Dyer et al. (2016) (5]'?\")\n",
    "print(\"\\n***********New Unstructured Basic Query Engine***********\")\n",
    "print(response_2)"
   ]
  },
  {
   "cell_type": "code",
   "execution_count": null,
   "id": "2aa0e6eb",
   "metadata": {},
   "outputs": [],
   "source": [
    "#Ask a question with an expected lack of context. This query should return I don’t know. The context does not provide any information about George Washington’s birthdate. because your document does not contain information about the George Washington.\n",
    "\n",
    "response_3 = chain.invoke(\"When was George Washington born?\")\n",
    "print(\"\\n***********New Unstructured Basic Query Engine***********\")\n",
    "print(response_3)"
   ]
  }
 ],
 "metadata": {
  "kernelspec": {
   "display_name": "unstructured",
   "language": "python",
   "name": "unstructured"
  },
  "language_info": {
   "codemirror_mode": {
    "name": "ipython",
    "version": 3
   },
   "file_extension": ".py",
   "mimetype": "text/x-python",
   "name": "python",
   "nbconvert_exporter": "python",
   "pygments_lexer": "ipython3",
   "version": "3.10.14"
  }
 },
 "nbformat": 4,
 "nbformat_minor": 5
}
